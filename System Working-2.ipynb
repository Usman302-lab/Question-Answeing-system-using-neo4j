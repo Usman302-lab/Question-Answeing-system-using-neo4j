{
 "cells": [
  {
   "cell_type": "code",
   "execution_count": null,
   "id": "29a11674",
   "metadata": {
    "scrolled": true
   },
   "outputs": [
    {
     "name": "stdout",
     "output_type": "stream",
     "text": [
      "Ask a question about a movie: Can you tell me released date of \"Cloud Atlas\"?\n"
     ]
    },
    {
     "data": {
      "text/html": [
       "<style>                   .output_subarea {                       padding: 10px;                       background-color: lightblue;                       border-radius: 10px;                       margin: 10px;                   }                   </style>                   <div class='output_subarea'>The release date of 'Cloud Atlas' is: 2012</div>"
      ],
      "text/plain": [
       "<IPython.core.display.HTML object>"
      ]
     },
     "metadata": {},
     "output_type": "display_data"
    },
    {
     "name": "stdout",
     "output_type": "stream",
     "text": [
      "Ask a question about a movie: I am curious about release year of The Matrix?\n"
     ]
    },
    {
     "data": {
      "text/html": [
       "<style>                   .output_subarea {                       padding: 10px;                       background-color: lightblue;                       border-radius: 10px;                       margin: 10px;                   }                   </style>                   <div class='output_subarea'>The release date of 'The Matrix' is: 1999</div>"
      ],
      "text/plain": [
       "<IPython.core.display.HTML object>"
      ]
     },
     "metadata": {},
     "output_type": "display_data"
    },
    {
     "name": "stdout",
     "output_type": "stream",
     "text": [
      "Ask a question about a movie: Who directed movie \"Johnny Mnemonic\" ?\n"
     ]
    },
    {
     "data": {
      "text/html": [
       "<style>                   .output_subarea {                       padding: 10px;                       background-color: lightblue;                       border-radius: 10px;                       margin: 10px;                   }                   </style>                   <div class='output_subarea'>Sorry, I don't understand what you're asking.</div>"
      ],
      "text/plain": [
       "<IPython.core.display.HTML object>"
      ]
     },
     "metadata": {},
     "output_type": "display_data"
    },
    {
     "name": "stdout",
     "output_type": "stream",
     "text": [
      "Ask a question about a movie: Who is the director of \"Johnny Mnemonic\" ?\n"
     ]
    },
    {
     "data": {
      "text/html": [
       "<style>                   .output_subarea {                       padding: 10px;                       background-color: lightblue;                       border-radius: 10px;                       margin: 10px;                   }                   </style>                   <div class='output_subarea'>'Johnny Mnemonic' was directed by Robert Longo</div>"
      ],
      "text/plain": [
       "<IPython.core.display.HTML object>"
      ]
     },
     "metadata": {},
     "output_type": "display_data"
    }
   ],
   "source": [
    "from neo4j import GraphDatabase\n",
    "\n",
    "driver = GraphDatabase.driver(\"bolt://localhost:7687\", auth=(\"neo4j\", \"usman123\"))\n",
    "\n",
    "\n",
    "import spacy\n",
    "nlp = spacy.load(\"en_core_web_sm\")\n",
    "def extract_entity(question, entity_type):\n",
    "    doc = nlp(question)\n",
    "    for ent in doc.ents:\n",
    "        if ent.label_ in entity_type:\n",
    "            return ent.text\n",
    "    return None\n",
    "\n",
    "\n",
    "\n",
    "def get_answer(question):\n",
    "    doc = nlp(question)\n",
    "    \n",
    "    movie_title = extract_entity(question, [\"WORK_OF_ART\", \"MOVIE\"])\n",
    "    director_name = extract_entity(question, [\"PERSON\"])\n",
    "    if movie_title is None:\n",
    "        return \"Sorry, I don't understand what movie you're asking about.\"\n",
    "    \n",
    "    with driver.session() as session:\n",
    "        if \"release\" in question or \"released\" in question:\n",
    "            result = session.run(f\"MATCH (m:Movie) WHERE m.title = '{movie_title}' RETURN m.released\")\n",
    "            if result.peek() is None:\n",
    "                return f\"No information found for the movie '{movie_title}'\"\n",
    "            for record in result:\n",
    "                return f\"The release date of '{movie_title}' is: {record['m.released']}\"\n",
    "        elif \"director\" in question or \"directed by\" in question:\n",
    "            if director_name:\n",
    "                result = session.run(f\"MATCH (m:Movie)-[:DIRECTED_BY]->(d:Director) WHERE m.title = '{movie_title}' AND d.name = '{director_name}' RETURN d.name\")\n",
    "                if result.peek() is None:\n",
    "                    return f\"No information found for the movie '{movie_title}' directed by {director_name}\"\n",
    "                for record in result:\n",
    "                    return f\"'{movie_title}' was directed by {record['d.name']}\"\n",
    "            else:\n",
    "                result = session.run(f\"MATCH (m:Movie)-[:DIRECTED_BY]->(d:Director) WHERE m.title = '{movie_title}' RETURN d.name\")\n",
    "                if result.peek() is None:\n",
    "                    return f\"No information found for the movie '{movie_title}'\"\n",
    "                for record in result:\n",
    "                    return f\"'{movie_title}' was directed by {record['d.name']}\"\n",
    "        # add more cases as needed\n",
    "        else:\n",
    "            return \"Sorry, I don't understand what you're asking.\"\n",
    "\n",
    "        \n",
    "from IPython.display import display, HTML\n",
    "\n",
    "def get_answer_widget(answer):\n",
    "    display(HTML(f\"<style> \\\n",
    "                  .output_subarea {{ \\\n",
    "                      padding: 10px; \\\n",
    "                      background-color: lightblue; \\\n",
    "                      border-radius: 10px; \\\n",
    "                      margin: 10px; \\\n",
    "                  }} \\\n",
    "                  </style> \\\n",
    "                  <div class='output_subarea'>{answer}</div>\"))\n",
    "\n",
    "# rest of the code remains the same as before\n",
    "\n",
    "while True:\n",
    "    question = input(\"Ask a question about a movie: \")\n",
    "    answer = get_answer(question)\n",
    "    get_answer_widget(answer)\n",
    "        "
   ]
  },
  {
   "cell_type": "code",
   "execution_count": null,
   "id": "bf58eb66",
   "metadata": {},
   "outputs": [],
   "source": []
  }
 ],
 "metadata": {
  "kernelspec": {
   "display_name": "Python 3 (ipykernel)",
   "language": "python",
   "name": "python3"
  },
  "language_info": {
   "codemirror_mode": {
    "name": "ipython",
    "version": 3
   },
   "file_extension": ".py",
   "mimetype": "text/x-python",
   "name": "python",
   "nbconvert_exporter": "python",
   "pygments_lexer": "ipython3",
   "version": "3.9.13"
  }
 },
 "nbformat": 4,
 "nbformat_minor": 5
}
